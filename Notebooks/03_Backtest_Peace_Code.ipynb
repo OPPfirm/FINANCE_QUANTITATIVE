{
 "cells": [
  {
   "cell_type": "code",
   "execution_count": 1,
   "id": "b3d5935d",
   "metadata": {},
   "outputs": [
    {
     "name": "stderr",
     "output_type": "stream",
     "text": [
      "C:\\Users\\lucasinglese\\AppData\\Roaming\\Python\\Python39\\site-packages\\numpy\\_distributor_init.py:30: UserWarning: loaded more than 1 DLL from .libs:\n",
      "C:\\Users\\lucasinglese\\AppData\\Roaming\\Python\\Python39\\site-packages\\numpy\\.libs\\libopenblas.JPIJNSWNNAN3CE6LLI5FWSPHUT2VXMTH.gfortran-win_amd64.dll\n",
      "C:\\Users\\lucasinglese\\AppData\\Roaming\\Python\\Python39\\site-packages\\numpy\\.libs\\libopenblas64__v0.3.21-gcc_10_3_0.dll\n",
      "  warnings.warn(\"loaded more than 1 DLL from .libs:\"\n"
     ]
    }
   ],
   "source": [
    "import numpy as np\n",
    "import pandas as pd"
   ]
  },
  {
   "cell_type": "code",
   "execution_count": 6,
   "id": "8fe440cb",
   "metadata": {},
   "outputs": [
    {
     "data": {
      "text/html": [
       "<div>\n",
       "<style scoped>\n",
       "    .dataframe tbody tr th:only-of-type {\n",
       "        vertical-align: middle;\n",
       "    }\n",
       "\n",
       "    .dataframe tbody tr th {\n",
       "        vertical-align: top;\n",
       "    }\n",
       "\n",
       "    .dataframe thead th {\n",
       "        text-align: right;\n",
       "    }\n",
       "</style>\n",
       "<table border=\"1\" class=\"dataframe\">\n",
       "  <thead>\n",
       "    <tr style=\"text-align: right;\">\n",
       "      <th></th>\n",
       "      <th>returns</th>\n",
       "    </tr>\n",
       "  </thead>\n",
       "  <tbody>\n",
       "    <tr>\n",
       "      <th>0</th>\n",
       "      <td>0.01</td>\n",
       "    </tr>\n",
       "    <tr>\n",
       "      <th>1</th>\n",
       "      <td>-0.01</td>\n",
       "    </tr>\n",
       "    <tr>\n",
       "      <th>2</th>\n",
       "      <td>-0.01</td>\n",
       "    </tr>\n",
       "    <tr>\n",
       "      <th>3</th>\n",
       "      <td>-0.01</td>\n",
       "    </tr>\n",
       "    <tr>\n",
       "      <th>4</th>\n",
       "      <td>0.02</td>\n",
       "    </tr>\n",
       "    <tr>\n",
       "      <th>5</th>\n",
       "      <td>0.02</td>\n",
       "    </tr>\n",
       "    <tr>\n",
       "      <th>6</th>\n",
       "      <td>0.01</td>\n",
       "    </tr>\n",
       "    <tr>\n",
       "      <th>7</th>\n",
       "      <td>0.01</td>\n",
       "    </tr>\n",
       "    <tr>\n",
       "      <th>8</th>\n",
       "      <td>-0.01</td>\n",
       "    </tr>\n",
       "    <tr>\n",
       "      <th>9</th>\n",
       "      <td>-0.01</td>\n",
       "    </tr>\n",
       "    <tr>\n",
       "      <th>10</th>\n",
       "      <td>-0.01</td>\n",
       "    </tr>\n",
       "    <tr>\n",
       "      <th>11</th>\n",
       "      <td>0.02</td>\n",
       "    </tr>\n",
       "    <tr>\n",
       "      <th>12</th>\n",
       "      <td>0.02</td>\n",
       "    </tr>\n",
       "    <tr>\n",
       "      <th>13</th>\n",
       "      <td>0.01</td>\n",
       "    </tr>\n",
       "    <tr>\n",
       "      <th>14</th>\n",
       "      <td>0.01</td>\n",
       "    </tr>\n",
       "    <tr>\n",
       "      <th>15</th>\n",
       "      <td>-0.01</td>\n",
       "    </tr>\n",
       "    <tr>\n",
       "      <th>16</th>\n",
       "      <td>-0.01</td>\n",
       "    </tr>\n",
       "    <tr>\n",
       "      <th>17</th>\n",
       "      <td>-0.01</td>\n",
       "    </tr>\n",
       "    <tr>\n",
       "      <th>18</th>\n",
       "      <td>0.02</td>\n",
       "    </tr>\n",
       "    <tr>\n",
       "      <th>19</th>\n",
       "      <td>0.02</td>\n",
       "    </tr>\n",
       "    <tr>\n",
       "      <th>20</th>\n",
       "      <td>0.01</td>\n",
       "    </tr>\n",
       "  </tbody>\n",
       "</table>\n",
       "</div>"
      ],
      "text/plain": [
       "    returns\n",
       "0      0.01\n",
       "1     -0.01\n",
       "2     -0.01\n",
       "3     -0.01\n",
       "4      0.02\n",
       "5      0.02\n",
       "6      0.01\n",
       "7      0.01\n",
       "8     -0.01\n",
       "9     -0.01\n",
       "10    -0.01\n",
       "11     0.02\n",
       "12     0.02\n",
       "13     0.01\n",
       "14     0.01\n",
       "15    -0.01\n",
       "16    -0.01\n",
       "17    -0.01\n",
       "18     0.02\n",
       "19     0.02\n",
       "20     0.01"
      ]
     },
     "execution_count": 6,
     "metadata": {},
     "output_type": "execute_result"
    }
   ],
   "source": [
    "data = pd.DataFrame()\n",
    "data[\"returns\"] = [0.01, -0.01, -0.01, -0.01, 0.02, 0.02,0.01, 0.01, -0.01, -0.01, -0.01, 0.02, 0.02,0.01, 0.01, -0.01, -0.01, -0.01, 0.02, 0.02,0.01]\n",
    "data"
   ]
  },
  {
   "cell_type": "code",
   "execution_count": 9,
   "id": "23e8ed0e",
   "metadata": {},
   "outputs": [
    {
     "data": {
      "text/plain": [
       "<AxesSubplot:>"
      ]
     },
     "execution_count": 9,
     "metadata": {},
     "output_type": "execute_result"
    },
    {
     "data": {
      "image/png": "[encoded data removed]",
      "text/plain": [
       "<Figure size 432x288 with 1 Axes>"
      ]
     },
     "metadata": {
      "needs_background": "light"
     },
     "output_type": "display_data"
    }
   ],
   "source": [
    "data[\"cumulative_returns\"] = data[\"returns\"].cumsum()\n",
    "data[\"cumulative_returns\"].plot()"
   ]
  },
  {
   "cell_type": "code",
   "execution_count": 19,
   "id": "adb368e1",
   "metadata": {},
   "outputs": [
    {
     "data": {
      "text/plain": [
       "0     1.01\n",
       "1     1.00\n",
       "2     0.99\n",
       "3     0.98\n",
       "4     1.00\n",
       "5     1.02\n",
       "6     1.03\n",
       "7     1.04\n",
       "8     1.03\n",
       "9     1.02\n",
       "10    1.01\n",
       "11    1.03\n",
       "12    1.05\n",
       "13    1.06\n",
       "14    1.07\n",
       "15    1.06\n",
       "16    1.05\n",
       "17    1.04\n",
       "18    1.06\n",
       "19    1.08\n",
       "20    1.09\n",
       "Name: cumulative_returns, dtype: float64"
      ]
     },
     "execution_count": 19,
     "metadata": {},
     "output_type": "execute_result"
    }
   ],
   "source": [
    "data[\"cumulative_returns\"] + 1"
   ]
  },
  {
   "cell_type": "code",
   "execution_count": 11,
   "id": "a65b5ced",
   "metadata": {},
   "outputs": [
    {
     "data": {
      "text/plain": [
       "0     1.01\n",
       "1     1.01\n",
       "2     1.01\n",
       "3     1.01\n",
       "4     1.01\n",
       "5     1.02\n",
       "6     1.03\n",
       "7     1.04\n",
       "8     1.04\n",
       "9     1.04\n",
       "10    1.04\n",
       "11    1.04\n",
       "12    1.05\n",
       "13    1.06\n",
       "14    1.07\n",
       "15    1.07\n",
       "16    1.07\n",
       "17    1.07\n",
       "18    1.07\n",
       "19    1.08\n",
       "20    1.09\n",
       "Name: cumulative_returns, dtype: float64"
      ]
     },
     "execution_count": 11,
     "metadata": {},
     "output_type": "execute_result"
    }
   ],
   "source": [
    "running_max = np.maximum.accumulate(data[\"cumulative_returns\"] + 1)\n",
    "running_max"
   ]
  },
  {
   "cell_type": "code",
   "execution_count": 14,
   "id": "3735283c",
   "metadata": {},
   "outputs": [
    {
     "data": {
      "text/plain": [
       "0     1.000000\n",
       "1     0.990099\n",
       "2     0.980198\n",
       "3     0.970297\n",
       "4     0.990099\n",
       "5     1.000000\n",
       "6     1.000000\n",
       "7     1.000000\n",
       "8     0.990385\n",
       "9     0.980769\n",
       "10    0.971154\n",
       "11    0.990385\n",
       "12    1.000000\n",
       "13    1.000000\n",
       "14    1.000000\n",
       "15    0.990654\n",
       "16    0.981308\n",
       "17    0.971963\n",
       "18    0.990654\n",
       "19    1.000000\n",
       "20    1.000000\n",
       "Name: cumulative_returns, dtype: float64"
      ]
     },
     "execution_count": 14,
     "metadata": {},
     "output_type": "execute_result"
    }
   ],
   "source": [
    "dd_coef = (data[\"cumulative_returns\"] + 1) / running_max\n",
    "dd_coef"
   ]
  },
  {
   "cell_type": "code",
   "execution_count": 18,
   "id": "1404e68a",
   "metadata": {},
   "outputs": [
    {
     "data": {
      "text/plain": [
       "<AxesSubplot:>"
      ]
     },
     "execution_count": 18,
     "metadata": {},
     "output_type": "execute_result"
    },
    {
     "data": {
      "image/png": "[encoded data removed]",
      "text/plain": [
       "<Figure size 432x288 with 1 Axes>"
      ]
     },
     "metadata": {
      "needs_background": "light"
     },
     "output_type": "display_data"
    }
   ],
   "source": [
    "pd.DataFrame((dd_coef.values-1)*100, columns=[\"drawdown\"]).plot(color=\"r\")"
   ]
  },
  {
   "cell_type": "code",
   "execution_count": null,
   "id": "873a3f17",
   "metadata": {},
   "outputs": [],
   "source": []
  }
 ],
 "metadata": {
  "kernelspec": {
   "display_name": "Python 3 (ipykernel)",
   "language": "python",
   "name": "python3"
  },
  "language_info": {
   "codemirror_mode": {
    "name": "ipython",
    "version": 3
   },
   "file_extension": ".py",
   "mimetype": "text/x-python",
   "name": "python",
   "nbconvert_exporter": "python",
   "pygments_lexer": "ipython3",
   "version": "3.9.12"
  }
 },
 "nbformat": 4,
 "nbformat_minor": 5
}
